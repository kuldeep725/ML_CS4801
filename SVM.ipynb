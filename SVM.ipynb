{
 "cells": [
  {
   "cell_type": "markdown",
   "metadata": {},
   "source": [
    "## Import Libraries"
   ]
  },
  {
   "cell_type": "code",
   "execution_count": 17,
   "metadata": {},
   "outputs": [],
   "source": [
    "import numpy as np\n",
    "import pandas as pd\n",
    "import matplotlib.pyplot as plt"
   ]
  },
  {
   "cell_type": "code",
   "execution_count": 18,
   "metadata": {},
   "outputs": [],
   "source": [
    "from sklearn.datasets import make_moons\n",
    "X, y = make_moons(n_samples=1500, noise=0.1)"
   ]
  },
  {
   "cell_type": "code",
   "execution_count": 19,
   "metadata": {},
   "outputs": [],
   "source": [
    "from sklearn.preprocessing import StandardScaler\n",
    "stdScaler = StandardScaler()\n",
    "X = stdScaler.fit_transform(X)"
   ]
  },
  {
   "cell_type": "code",
   "execution_count": 20,
   "metadata": {},
   "outputs": [],
   "source": [
    "from sklearn.model_selection import train_test_split\n",
    "X_train, X_val, y_train, y_val = train_test_split(X, y, test_size = 0.4, stratify=y)"
   ]
  },
  {
   "cell_type": "markdown",
   "metadata": {},
   "source": [
    "# SVM"
   ]
  },
  {
   "cell_type": "code",
   "execution_count": 21,
   "metadata": {},
   "outputs": [
    {
     "name": "stdout",
     "output_type": "stream",
     "text": [
      "Training Score using SVM   :  1 0.88\n",
      "Validation Score using SVM :  1 0.8833333333333333\n",
      "Training Score using SVM   :  2 0.5144444444444445\n",
      "Validation Score using SVM :  2 0.49666666666666665\n",
      "Training Score using SVM   :  3 0.8766666666666667\n",
      "Validation Score using SVM :  3 0.88\n",
      "Training Score using SVM   :  4 0.5233333333333333\n",
      "Validation Score using SVM :  4 0.48833333333333334\n",
      "Training Score using SVM   :  5 0.9233333333333333\n",
      "Validation Score using SVM :  5 0.9183333333333333\n",
      "Training Score using SVM   :  6 0.5177777777777778\n",
      "Validation Score using SVM :  6 0.49833333333333335\n",
      "Training Score using SVM   :  7 0.9111111111111111\n",
      "Validation Score using SVM :  7 0.9166666666666666\n",
      "Training Score using SVM   :  8 0.52\n",
      "Validation Score using SVM :  8 0.5066666666666667\n",
      "Training Score using SVM   :  9 0.9\n",
      "Validation Score using SVM :  9 0.8933333333333333\n",
      "Optimal Degree  5\n",
      "Best Training Score  0.9233333333333333\n",
      "Best Validation Score  0.9183333333333333\n"
     ]
    }
   ],
   "source": [
    "from sklearn.svm import SVC\n",
    "bestTrainScore = 0\n",
    "bestValScore = 0\n",
    "optimalDegree = 1\n",
    "for c in range(1, 10) :\n",
    "    svc_model = SVC(C = 100, kernel = 'poly', degree = c, random_state = 42)\n",
    "    svc_model = svc_model.fit(X_train, y_train)\n",
    "    train_score = svc_model.score(X_train, y_train)\n",
    "    test_score = svc_model.score(X_val, y_val)\n",
    "    print(\"Training Score using SVM   : \", c, train_score)\n",
    "    print(\"Validation Score using SVM : \", c, test_score)\n",
    "    if(test_score > bestValScore) :\n",
    "        bestValScore = test_score\n",
    "        bestTrainScore = train_score\n",
    "        optimalDegree = c\n",
    "print(\"Optimal Degree \", optimalDegree)\n",
    "print(\"Best Training Score \", bestTrainScore)\n",
    "print(\"Best Validation Score \", bestValScore)"
   ]
  }
 ],
 "metadata": {
  "kernelspec": {
   "display_name": "Python 3",
   "language": "python",
   "name": "python3"
  },
  "language_info": {
   "codemirror_mode": {
    "name": "ipython",
    "version": 3
   },
   "file_extension": ".py",
   "mimetype": "text/x-python",
   "name": "python",
   "nbconvert_exporter": "python",
   "pygments_lexer": "ipython3",
   "version": "3.6.4"
  }
 },
 "nbformat": 4,
 "nbformat_minor": 2
}
