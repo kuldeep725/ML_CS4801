{
 "cells": [
  {
   "cell_type": "markdown",
   "metadata": {},
   "source": [
    "# Importing Libraries"
   ]
  },
  {
   "cell_type": "code",
   "execution_count": 6,
   "metadata": {},
   "outputs": [],
   "source": [
    "import numpy as np\n",
    "import pandas as pd"
   ]
  },
  {
   "cell_type": "code",
   "execution_count": 21,
   "metadata": {},
   "outputs": [
    {
     "data": {
      "text/html": [
       "<div>\n",
       "<style scoped>\n",
       "    .dataframe tbody tr th:only-of-type {\n",
       "        vertical-align: middle;\n",
       "    }\n",
       "\n",
       "    .dataframe tbody tr th {\n",
       "        vertical-align: top;\n",
       "    }\n",
       "\n",
       "    .dataframe thead th {\n",
       "        text-align: right;\n",
       "    }\n",
       "</style>\n",
       "<table border=\"1\" class=\"dataframe\">\n",
       "  <thead>\n",
       "    <tr style=\"text-align: right;\">\n",
       "      <th></th>\n",
       "      <th>affinity</th>\n",
       "      <th>score</th>\n",
       "      <th>gauss1</th>\n",
       "      <th>gauss2</th>\n",
       "      <th>repulsion</th>\n",
       "      <th>hydrophobic</th>\n",
       "      <th>hydrogen</th>\n",
       "    </tr>\n",
       "  </thead>\n",
       "  <tbody>\n",
       "    <tr>\n",
       "      <th>0</th>\n",
       "      <td>-2.745424</td>\n",
       "      <td>-3.13245</td>\n",
       "      <td>48.02108</td>\n",
       "      <td>434.90009</td>\n",
       "      <td>1.00229</td>\n",
       "      <td>17.16027</td>\n",
       "      <td>1.04153</td>\n",
       "    </tr>\n",
       "    <tr>\n",
       "      <th>1</th>\n",
       "      <td>-2.745424</td>\n",
       "      <td>-4.57551</td>\n",
       "      <td>45.86394</td>\n",
       "      <td>906.54910</td>\n",
       "      <td>4.54990</td>\n",
       "      <td>0.00000</td>\n",
       "      <td>7.21115</td>\n",
       "    </tr>\n",
       "    <tr>\n",
       "      <th>2</th>\n",
       "      <td>-2.745424</td>\n",
       "      <td>-4.58830</td>\n",
       "      <td>49.45446</td>\n",
       "      <td>708.90695</td>\n",
       "      <td>4.56065</td>\n",
       "      <td>10.12192</td>\n",
       "      <td>5.42312</td>\n",
       "    </tr>\n",
       "    <tr>\n",
       "      <th>3</th>\n",
       "      <td>-2.745424</td>\n",
       "      <td>-3.13634</td>\n",
       "      <td>54.99922</td>\n",
       "      <td>768.05907</td>\n",
       "      <td>5.70052</td>\n",
       "      <td>31.01157</td>\n",
       "      <td>2.34365</td>\n",
       "    </tr>\n",
       "    <tr>\n",
       "      <th>4</th>\n",
       "      <td>-2.814060</td>\n",
       "      <td>-5.04353</td>\n",
       "      <td>53.45864</td>\n",
       "      <td>1053.90858</td>\n",
       "      <td>1.63114</td>\n",
       "      <td>0.00000</td>\n",
       "      <td>2.94989</td>\n",
       "    </tr>\n",
       "  </tbody>\n",
       "</table>\n",
       "</div>"
      ],
      "text/plain": [
       "   affinity    score    gauss1      gauss2  repulsion  hydrophobic  hydrogen\n",
       "0 -2.745424 -3.13245  48.02108   434.90009    1.00229     17.16027   1.04153\n",
       "1 -2.745424 -4.57551  45.86394   906.54910    4.54990      0.00000   7.21115\n",
       "2 -2.745424 -4.58830  49.45446   708.90695    4.56065     10.12192   5.42312\n",
       "3 -2.745424 -3.13634  54.99922   768.05907    5.70052     31.01157   2.34365\n",
       "4 -2.814060 -5.04353  53.45864  1053.90858    1.63114      0.00000   2.94989"
      ]
     },
     "execution_count": 21,
     "metadata": {},
     "output_type": "execute_result"
    }
   ],
   "source": [
    "data = pd.read_csv(\"PDBbind2015_refined-core.dat\", delim_whitespace=True, index_col=False)\n",
    "data.head()"
   ]
  },
  {
   "cell_type": "code",
   "execution_count": 8,
   "metadata": {},
   "outputs": [
    {
     "data": {
      "text/html": [
       "<div>\n",
       "<style scoped>\n",
       "    .dataframe tbody tr th:only-of-type {\n",
       "        vertical-align: middle;\n",
       "    }\n",
       "\n",
       "    .dataframe tbody tr th {\n",
       "        vertical-align: top;\n",
       "    }\n",
       "\n",
       "    .dataframe thead th {\n",
       "        text-align: right;\n",
       "    }\n",
       "</style>\n",
       "<table border=\"1\" class=\"dataframe\">\n",
       "  <thead>\n",
       "    <tr style=\"text-align: right;\">\n",
       "      <th></th>\n",
       "      <th>affinity</th>\n",
       "      <th>score</th>\n",
       "      <th>gauss1</th>\n",
       "      <th>gauss2</th>\n",
       "      <th>repulsion</th>\n",
       "      <th>hydrophobic</th>\n",
       "      <th>hydrogen</th>\n",
       "    </tr>\n",
       "  </thead>\n",
       "  <tbody>\n",
       "    <tr>\n",
       "      <th>affinity</th>\n",
       "      <td>1.000000</td>\n",
       "      <td>0.469934</td>\n",
       "      <td>-0.413158</td>\n",
       "      <td>-0.481285</td>\n",
       "      <td>-0.088593</td>\n",
       "      <td>-0.446885</td>\n",
       "      <td>0.012595</td>\n",
       "    </tr>\n",
       "    <tr>\n",
       "      <th>score</th>\n",
       "      <td>0.469934</td>\n",
       "      <td>1.000000</td>\n",
       "      <td>-0.701213</td>\n",
       "      <td>-0.719736</td>\n",
       "      <td>-0.024761</td>\n",
       "      <td>-0.573668</td>\n",
       "      <td>-0.138938</td>\n",
       "    </tr>\n",
       "    <tr>\n",
       "      <th>gauss1</th>\n",
       "      <td>-0.413158</td>\n",
       "      <td>-0.701213</td>\n",
       "      <td>1.000000</td>\n",
       "      <td>0.864898</td>\n",
       "      <td>0.521572</td>\n",
       "      <td>0.428093</td>\n",
       "      <td>0.400803</td>\n",
       "    </tr>\n",
       "    <tr>\n",
       "      <th>gauss2</th>\n",
       "      <td>-0.481285</td>\n",
       "      <td>-0.719736</td>\n",
       "      <td>0.864898</td>\n",
       "      <td>1.000000</td>\n",
       "      <td>0.397460</td>\n",
       "      <td>0.575271</td>\n",
       "      <td>0.265164</td>\n",
       "    </tr>\n",
       "    <tr>\n",
       "      <th>repulsion</th>\n",
       "      <td>-0.088593</td>\n",
       "      <td>-0.024761</td>\n",
       "      <td>0.521572</td>\n",
       "      <td>0.397460</td>\n",
       "      <td>1.000000</td>\n",
       "      <td>-0.103389</td>\n",
       "      <td>0.753915</td>\n",
       "    </tr>\n",
       "    <tr>\n",
       "      <th>hydrophobic</th>\n",
       "      <td>-0.446885</td>\n",
       "      <td>-0.573668</td>\n",
       "      <td>0.428093</td>\n",
       "      <td>0.575271</td>\n",
       "      <td>-0.103389</td>\n",
       "      <td>1.000000</td>\n",
       "      <td>-0.281623</td>\n",
       "    </tr>\n",
       "    <tr>\n",
       "      <th>hydrogen</th>\n",
       "      <td>0.012595</td>\n",
       "      <td>-0.138938</td>\n",
       "      <td>0.400803</td>\n",
       "      <td>0.265164</td>\n",
       "      <td>0.753915</td>\n",
       "      <td>-0.281623</td>\n",
       "      <td>1.000000</td>\n",
       "    </tr>\n",
       "  </tbody>\n",
       "</table>\n",
       "</div>"
      ],
      "text/plain": [
       "             affinity     score    gauss1    gauss2  repulsion  hydrophobic  \\\n",
       "affinity     1.000000  0.469934 -0.413158 -0.481285  -0.088593    -0.446885   \n",
       "score        0.469934  1.000000 -0.701213 -0.719736  -0.024761    -0.573668   \n",
       "gauss1      -0.413158 -0.701213  1.000000  0.864898   0.521572     0.428093   \n",
       "gauss2      -0.481285 -0.719736  0.864898  1.000000   0.397460     0.575271   \n",
       "repulsion   -0.088593 -0.024761  0.521572  0.397460   1.000000    -0.103389   \n",
       "hydrophobic -0.446885 -0.573668  0.428093  0.575271  -0.103389     1.000000   \n",
       "hydrogen     0.012595 -0.138938  0.400803  0.265164   0.753915    -0.281623   \n",
       "\n",
       "             hydrogen  \n",
       "affinity     0.012595  \n",
       "score       -0.138938  \n",
       "gauss1       0.400803  \n",
       "gauss2       0.265164  \n",
       "repulsion    0.753915  \n",
       "hydrophobic -0.281623  \n",
       "hydrogen     1.000000  "
      ]
     },
     "execution_count": 8,
     "metadata": {},
     "output_type": "execute_result"
    }
   ],
   "source": [
    "data.corr()"
   ]
  },
  {
   "cell_type": "code",
   "execution_count": 9,
   "metadata": {},
   "outputs": [],
   "source": [
    "from sklearn.model_selection import train_test_split\n",
    "y = data['affinity']\n",
    "X = data.iloc[:, 1:6]   \n",
    "X_train, X_val, y_train, y_val = train_test_split(\n",
    "     X.values, y.values, test_size=0.15, random_state=42)"
   ]
  },
  {
   "cell_type": "markdown",
   "metadata": {},
   "source": [
    "### --> To select appropriate model, we train our data using different models below."
   ]
  },
  {
   "cell_type": "markdown",
   "metadata": {},
   "source": [
    "# Linear regression using OLSR"
   ]
  },
  {
   "cell_type": "code",
   "execution_count": 10,
   "metadata": {},
   "outputs": [
    {
     "name": "stdout",
     "output_type": "stream",
     "text": [
      "The training Score is 0.2914017444997623\n",
      "The validation score is 0.2709359009302277\n"
     ]
    }
   ],
   "source": [
    "from sklearn.linear_model import LinearRegression\n",
    "\n",
    "lr_model = LinearRegression(normalize=True)\n",
    "lr_model.fit(X_train, y_train)\n",
    "acc = lr_model.score(X_val, y_val)\n",
    "\n",
    "print(\"The training Score is\", lr_model.score(X_train, y_train))\n",
    "print(\"The validation score is\", acc)"
   ]
  },
  {
   "cell_type": "markdown",
   "metadata": {},
   "source": [
    "# Using SVM"
   ]
  },
  {
   "cell_type": "code",
   "execution_count": 11,
   "metadata": {},
   "outputs": [
    {
     "name": "stdout",
     "output_type": "stream",
     "text": [
      "The training Score is 0.3878355766513931\n",
      "The validation score is 0.38288324461670376\n"
     ]
    }
   ],
   "source": [
    "from sklearn.preprocessing import StandardScaler\n",
    "from sklearn.svm import SVR\n",
    "\n",
    "scaler = StandardScaler()\n",
    "scaler.fit(X_train)\n",
    "X_train_svm = scaler.transform(X_train)\n",
    "X_val_svm = scaler.transform(X_val)\n",
    "\n",
    "svm = SVR()\n",
    "svm.fit(X_train_svm, y_train)\n",
    "\n",
    "print(\"The training Score is\", svm.score(X_train_svm, y_train))\n",
    "print(\"The validation score is\", svm.score(X_val_svm, y_val))"
   ]
  },
  {
   "cell_type": "markdown",
   "metadata": {},
   "source": [
    "# Using Random Forest Regressor"
   ]
  },
  {
   "cell_type": "code",
   "execution_count": 12,
   "metadata": {},
   "outputs": [
    {
     "name": "stdout",
     "output_type": "stream",
     "text": [
      "The training Score is 0.6971083509277529\n",
      "The validation score is 0.41449193753087543\n"
     ]
    }
   ],
   "source": [
    "from sklearn.ensemble import RandomForestRegressor\n",
    "\n",
    "rf_model = RandomForestRegressor(max_depth=9, n_estimators=100, random_state=42)\n",
    "rf_model.fit(X_train, y_train)\n",
    "acc = rf_model.score(X_val, y_val)\n",
    "\n",
    "print(\"The training Score is\", rf_model.score(X_train, y_train))\n",
    "print(\"The validation score is\", acc)"
   ]
  },
  {
   "cell_type": "markdown",
   "metadata": {},
   "source": [
    "# Model Selection"
   ]
  },
  {
   "cell_type": "markdown",
   "metadata": {},
   "source": [
    "We have trained our data above using three models and analyzed training score and validation score for all the three models. After observing validation score and training score, its clear that linear regression using OLSR will not be an appropriate model to use for the given data. SVM and Random Forest Regressor is giving a much better result as compared to linear regression. For SVM, training score is very near to validation score so there is no chance of overfitting at all. For Random Forest Regressor, training score is quite higher than validation score so there is chance of overfitting but the validation score for Random Forest Regressor model is better than SVM. Looking at the validation score and observing that difference between validation score and training score is reasonable, Random Forest Regressor is the best model for us to choose for the given data."
   ]
  },
  {
   "cell_type": "markdown",
   "metadata": {},
   "source": [
    "## CODE FOR TESTING THE PERFORMANCE"
   ]
  },
  {
   "cell_type": "code",
   "execution_count": 13,
   "metadata": {},
   "outputs": [],
   "source": [
    "## reading the test data file\n",
    "test_data = pd.read_csv(\"PDBbind2015_core.dat\",delim_whitespace=True,index_col=False)"
   ]
  },
  {
   "cell_type": "code",
   "execution_count": 14,
   "metadata": {},
   "outputs": [],
   "source": [
    "y_test = data['affinity']\n",
    "X_test = data.iloc[:, 1:6] "
   ]
  },
  {
   "cell_type": "code",
   "execution_count": 15,
   "metadata": {},
   "outputs": [
    {
     "name": "stdout",
     "output_type": "stream",
     "text": [
      "Testing score is 0.6533492065157274\n",
      "Correlation : \n",
      " [[1.         0.82261183]\n",
      " [0.82261183 1.        ]]\n"
     ]
    }
   ],
   "source": [
    "## making the predicition on the test data by random forest\n",
    "y_predict = rf_model.predict(X_test)\n",
    "\n",
    "print(\"Testing score is\", rf_model.score(X_test, y_test))\n",
    "print(\"Correlation : \\n\", np.corrcoef(y_test, y_predict))"
   ]
  }
 ],
 "metadata": {
  "kernelspec": {
   "display_name": "Python 3",
   "language": "python",
   "name": "python3"
  },
  "language_info": {
   "codemirror_mode": {
    "name": "ipython",
    "version": 3
   },
   "file_extension": ".py",
   "mimetype": "text/x-python",
   "name": "python",
   "nbconvert_exporter": "python",
   "pygments_lexer": "ipython3",
   "version": "3.6.4"
  }
 },
 "nbformat": 4,
 "nbformat_minor": 2
}
